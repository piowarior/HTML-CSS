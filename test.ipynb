{
 "cells": [
  {
   "cell_type": "code",
   "execution_count": 1,
   "metadata": {},
   "outputs": [
    {
     "ename": "ValueError",
     "evalue": "5 is not in list",
     "output_type": "error",
     "traceback": [
      "\u001b[0;31m---------------------------------------------------------------------------\u001b[0m",
      "\u001b[0;31mValueError\u001b[0m                                Traceback (most recent call last)",
      "Cell \u001b[0;32mIn[1], line 63\u001b[0m\n\u001b[1;32m     61\u001b[0m \u001b[38;5;66;03m# Menjalankan simulasi untuk ketiga algoritma\u001b[39;00m\n\u001b[1;32m     62\u001b[0m optimal_faults \u001b[38;5;241m=\u001b[39m optimal_page_replacement(reference_string, frame_count)\n\u001b[0;32m---> 63\u001b[0m lru_faults \u001b[38;5;241m=\u001b[39m \u001b[43mlru_page_replacement\u001b[49m\u001b[43m(\u001b[49m\u001b[43mreference_string\u001b[49m\u001b[43m,\u001b[49m\u001b[43m \u001b[49m\u001b[43mframe_count\u001b[49m\u001b[43m)\u001b[49m\n\u001b[1;32m     64\u001b[0m fifo_faults \u001b[38;5;241m=\u001b[39m fifo_page_replacement(reference_string, frame_count)\n\u001b[1;32m     66\u001b[0m \u001b[38;5;28mprint\u001b[39m(\u001b[38;5;124m\"\u001b[39m\u001b[38;5;124mJumlah Page Faults dengan Algoritma Optimal:\u001b[39m\u001b[38;5;124m\"\u001b[39m, optimal_faults)\n",
      "Cell \u001b[0;32mIn[1], line 27\u001b[0m, in \u001b[0;36mlru_page_replacement\u001b[0;34m(reference_string, frame_count)\u001b[0m\n\u001b[1;32m     24\u001b[0m     \u001b[38;5;28;01melse\u001b[39;00m:\n\u001b[1;32m     25\u001b[0m         \u001b[38;5;66;03m# Menemukan halaman yang paling lama tidak digunakan\u001b[39;00m\n\u001b[1;32m     26\u001b[0m         lru_page \u001b[38;5;241m=\u001b[39m \u001b[38;5;28mmin\u001b[39m(recent_usage, key\u001b[38;5;241m=\u001b[39mrecent_usage\u001b[38;5;241m.\u001b[39mget)\n\u001b[0;32m---> 27\u001b[0m         frames[\u001b[43mframes\u001b[49m\u001b[38;5;241;43m.\u001b[39;49m\u001b[43mindex\u001b[49m\u001b[43m(\u001b[49m\u001b[43mlru_page\u001b[49m\u001b[43m)\u001b[49m] \u001b[38;5;241m=\u001b[39m page  \u001b[38;5;66;03m# Ganti halaman LRU\u001b[39;00m\n\u001b[1;32m     28\u001b[0m     page_faults \u001b[38;5;241m+\u001b[39m\u001b[38;5;241m=\u001b[39m \u001b[38;5;241m1\u001b[39m\n\u001b[1;32m     29\u001b[0m \u001b[38;5;66;03m# Memperbarui penggunaan terbaru\u001b[39;00m\n",
      "\u001b[0;31mValueError\u001b[0m: 5 is not in list"
     ]
    }
   ],
   "source": [
    "def optimal_page_replacement(reference_string, frame_count):\n",
    "    frames, page_faults = [], 0\n",
    "    for i, page in enumerate(reference_string):\n",
    "        if page not in frames:\n",
    "            if len(frames) < frame_count:\n",
    "                frames.append(page)\n",
    "            else:\n",
    "                # Menentukan halaman yang waktu penggunaannya terjauh di masa depan\n",
    "                future_usage = {frame: (reference_string[i + 1:].index(frame) if frame in reference_string[i + 1:] else float('inf'))\n",
    "                                 for frame in frames}\n",
    "                farthest_page = max(future_usage, key=future_usage.get)\n",
    "                frames[frames.index(farthest_page)] = page\n",
    "            page_faults += 1\n",
    "    return page_faults\n",
    "\n",
    "def lru_page_replacement(reference_string, frame_count):\n",
    "    frames, page_faults = [], 0\n",
    "    recent_usage = {}\n",
    "\n",
    "    for i, page in enumerate(reference_string):\n",
    "        if page not in frames:\n",
    "            if len(frames) < frame_count:\n",
    "                frames.append(page)\n",
    "            else:\n",
    "                # Menemukan halaman yang paling lama tidak digunakan\n",
    "                lru_page = min(recent_usage, key=recent_usage.get)\n",
    "                frames[frames.index(lru_page)] = page  # Ganti halaman LRU\n",
    "            page_faults += 1\n",
    "        # Memperbarui penggunaan terbaru\n",
    "        recent_usage[page] = i\n",
    "\n",
    "    return page_faults\n",
    "\n",
    "def fifo_page_replacement(reference_string, frame_count):\n",
    "    frames, page_faults = [], 0\n",
    "    queue = []\n",
    "\n",
    "    for page in reference_string:\n",
    "        if page not in frames:\n",
    "            if len(frames) < frame_count:\n",
    "                frames.append(page)\n",
    "                queue.append(page)\n",
    "            else:\n",
    "                # Mengganti halaman yang pertama kali masuk (FIFO)\n",
    "                first_in = queue.pop(0)\n",
    "                frames[frames.index(first_in)] = page\n",
    "                queue.append(page)  # Menambahkan halaman baru ke queue\n",
    "            page_faults += 1\n",
    "        else:\n",
    "            # Jika halaman sudah ada, tidak perlu menambah page fault\n",
    "            # Memperbarui posisi halaman yang sudah ada di FIFO queue\n",
    "            queue.remove(page)\n",
    "            queue.append(page)\n",
    "\n",
    "    return page_faults\n",
    "\n",
    "# Contoh referensi string dan jumlah frame\n",
    "reference_string = [5, 1, 4, 6, 1, 7, 1, 8, 6, 7, 1, 7, 6]\n",
    "frame_count = 3\n",
    "\n",
    "# Menjalankan simulasi untuk ketiga algoritma\n",
    "optimal_faults = optimal_page_replacement(reference_string, frame_count)\n",
    "lru_faults = lru_page_replacement(reference_string, frame_count)\n",
    "fifo_faults = fifo_page_replacement(reference_string, frame_count)\n",
    "\n",
    "print(\"Jumlah Page Faults dengan Algoritma Optimal:\", optimal_faults)\n",
    "print(\"Jumlah Page Faults dengan Algoritma LRU:\", lru_faults)\n",
    "print(\"Jumlah Page Faults dengan Algoritma FIFO:\", fifo_faults)\n"
   ]
  }
 ],
 "metadata": {
  "kernelspec": {
   "display_name": "Python 3",
   "language": "python",
   "name": "python3"
  },
  "language_info": {
   "codemirror_mode": {
    "name": "ipython",
    "version": 3
   },
   "file_extension": ".py",
   "mimetype": "text/x-python",
   "name": "python",
   "nbconvert_exporter": "python",
   "pygments_lexer": "ipython3",
   "version": "3.10.12"
  }
 },
 "nbformat": 4,
 "nbformat_minor": 2
}
